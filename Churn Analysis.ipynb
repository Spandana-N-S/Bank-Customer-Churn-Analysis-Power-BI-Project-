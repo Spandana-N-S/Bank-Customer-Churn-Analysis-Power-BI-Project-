{
 "cells": [
  {
   "cell_type": "code",
   "execution_count": null,
   "id": "0fc1a279-3935-47b6-b3d3-6ad4a81ebb2e",
   "metadata": {},
   "outputs": [],
   "source": [
    "## A) CUSTOMER CHURN ANALYSIS\n",
    "1. Total Customers and Churned Customers:\n",
    " * Total Customers: The dataset consists of a total of 10,000 customers.\n",
    " * Churned Customers: There are 2,038 churned customers, indicating an attrition rate of approximately 20.38%."
   ]
  },
  {
   "cell_type": "code",
   "execution_count": null,
   "id": "e58f5ad5-4790-42d7-9770-e0504d718006",
   "metadata": {},
   "outputs": [],
   "source": [
    "## 2. Credit Score Level:\n",
    " * <400: Customers with a credit score below 400 had the lowest churn rate, with only 19 out of 19 customers exiting.\n",
    " * > 800: Customers with a credit score above 800 had a relatively low churn rate, with 127 out of 645 customers exiting.\n",
    "   > \n",
    " * 400-600: Customers with credit scores ranging from 400 to 600 had a moderate churn rate, with 643 out of 3,017 customers exiting.\n",
    " * 600-800: Customers with credit scores ranging from 600 to 800 had the highest churn rate, with 1,249 out of 6,319 customers exiting.\n"
   ]
  },
  {
   "cell_type": "code",
   "execution_count": null,
   "id": "2f987807-1e83-49aa-b663-ca4d4cb41cdd",
   "metadata": {},
   "outputs": [],
   "source": [
    "## 3. Geography:\n",
    " * France: Customers from France had a moderate churn rate, with 811 out of 5,014 customers exiting.\n",
    " * Germany: Customers from Germany had a similar churn rate to France, with 814 out of 2,509 customers exiting.\n",
    " * Spain: Customers from Spain had a relatively lower churn rate, with 413 out of 2,477 customers exiting.\n",
    "Air Mode"
   ]
  },
  {
   "cell_type": "code",
   "execution_count": null,
   "id": "ba47b7e2-18a9-4ef0-bc4c-6fc7661d33d3",
   "metadata": {},
   "outputs": [],
   "source": [
    "## 4. Gender:\n",
    " - Female: Female customers had a higher churn rate compared to males, with 1,139 out of 4,543 \n",
    "customers exiting.\n",
    " - Male: Male customers had a lower churn rate compared to females, with 899 out of 5,457 \n",
    "customers exiting."
   ]
  },
  {
   "cell_type": "code",
   "execution_count": null,
   "id": "0cda927b-dc2a-4c8b-b244-8e5dfb5b27e7",
   "metadata": {},
   "outputs": [],
   "source": [
    "## 5. Age Group:\n",
    "- Customers between the ages of 30 and 40 had the highest churn rate, with 555 out of 4,467 \n",
    "customers exiting.\n",
    "- Customers above the age of 60 had the lowest churn rate, with 115 out of 464 customers exiting.\n",
    "- Customers between the ages of 40 and 50 had a moderate churn rate, while Customers between the \n",
    "ages of 50 and 60 had a relatively lower churn rate"
   ]
  },
  {
   "cell_type": "code",
   "execution_count": null,
   "id": "ab991723-c4cd-4454-b313-c7083e914bf6",
   "metadata": {},
   "outputs": [],
   "source": [
    "## 6. Has Credit Card:\n",
    " - Customers without a credit card had a higher churn rate, with 613 out of 2,944 customers exiting.\n",
    " - Customers with a credit card had a lower churn rate, with 1,425 out of 7,056 customers exiting"
   ]
  },
  {
   "cell_type": "code",
   "execution_count": null,
   "id": "ec4787a9-b5f6-442d-9b9a-3911a139e2cb",
   "metadata": {},
   "outputs": [],
   "source": [
    "## B) RECOMMENDATIONS\n",
    " recommendations to mitigate customer \n",
    "churn and drive our business forward:"
   ]
  },
  {
   "cell_type": "code",
   "execution_count": null,
   "id": "12569880-362b-44e3-963c-464f08335d7f",
   "metadata": {},
   "outputs": [],
   "source": [
    "## 1. Credit Score-Based Strategies:\n",
    " - Focus on customers with credit scores between 600 and 800, as they have the highest churn rate. \n",
    "Implement targeted retention campaigns and personalized offers to increase loyalty among this \n",
    "segment.\n",
    " - Provide credit-building resources and incentives for customers with credit scores below 400 to \n",
    "improve their financial standing and reduce churn."
   ]
  },
  {
   "cell_type": "code",
   "execution_count": null,
   "id": "be4c4915-b534-406b-88c2-ff71c71eaaf4",
   "metadata": {},
   "outputs": [],
   "source": [
    "## 2. Regional Approach:\n",
    " - Pay special attention to customers in Germany, France, and Spain, as they exhibit varying churn \n",
    "rates. Develop region-specific strategies to address the unique challenges and preferences of each \n",
    "market"
   ]
  },
  {
   "cell_type": "code",
   "execution_count": null,
   "id": "aaf74f97-c36d-4fde-a140-1ca91a589109",
   "metadata": {},
   "outputs": [],
   "source": [
    "## 3. Gender-Based Strategies:\n",
    " - Analyze the factors contributing to the higher churn rate among female customers. Implement \n",
    "initiatives such as personalized communication, exclusive offers, and improved customer service to \n",
    "enhance loyalty and reduce churn"
   ]
  },
  {
   "cell_type": "code",
   "execution_count": null,
   "id": "d90aa224-3a06-4516-a3be-c726da281e21",
   "metadata": {},
   "outputs": [],
   "source": [
    "## 4. Age-Specific Initiatives:\n",
    " - Develop targeted retention programs for customers between the ages of 30 and 40, as they have \n",
    "the highest churn rate. Offer tailored products, loyalty rewards, and personalized experiences to \n",
    "strengthen their loyalty."
   ]
  },
  {
   "cell_type": "code",
   "execution_count": null,
   "id": "0a2a3aa4-2bf9-4563-86cc-59d248906135",
   "metadata": {},
   "outputs": [],
   "source": [
    "## 5. Credit Card Utilization:\n",
    " - Encourage customers without a credit card to consider obtaining one, as they have a higher churn \n",
    "rate. Highlight the benefits, convenience, and exclusive offers associated with credit card usage to \n",
    "increase customer retention"
   ]
  }
 ],
 "metadata": {
  "kernelspec": {
   "display_name": "Python 3 (ipykernel)",
   "language": "python",
   "name": "python3"
  },
  "language_info": {
   "codemirror_mode": {
    "name": "ipython",
    "version": 3
   },
   "file_extension": ".py",
   "mimetype": "text/x-python",
   "name": "python",
   "nbconvert_exporter": "python",
   "pygments_lexer": "ipython3",
   "version": "3.12.4"
  }
 },
 "nbformat": 4,
 "nbformat_minor": 5
}
